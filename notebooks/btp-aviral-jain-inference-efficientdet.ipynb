{
 "cells": [
  {
   "cell_type": "code",
   "execution_count": 1,
   "metadata": {
    "_cell_guid": "79c7e3d0-c299-4dcb-8224-4455121ee9b0",
    "_uuid": "d629ff2d2480ee46fbb7e2d37f6b5fab8052498a",
    "execution": {
     "iopub.execute_input": "2021-11-23T08:28:37.289345Z",
     "iopub.status.busy": "2021-11-23T08:28:37.288531Z",
     "iopub.status.idle": "2021-11-23T08:29:22.788197Z",
     "shell.execute_reply": "2021-11-23T08:29:22.787528Z",
     "shell.execute_reply.started": "2021-11-23T08:22:07.294969Z"
    },
    "papermill": {
     "duration": 45.517968,
     "end_time": "2021-11-23T08:29:22.788318",
     "exception": false,
     "start_time": "2021-11-23T08:28:37.270350",
     "status": "completed"
    },
    "tags": []
   },
   "outputs": [],
   "source": [
    "!pip install --no-deps '../input/timm-package/timm-0.1.26-py3-none-any.whl' > /dev/null\n",
    "!pip install --no-deps '../input/pycocotools/pycocotools-2.0-cp37-cp37m-linux_x86_64.whl' > /dev/null"
   ]
  },
  {
   "cell_type": "code",
   "execution_count": 2,
   "metadata": {
    "execution": {
     "iopub.execute_input": "2021-11-23T08:29:22.824870Z",
     "iopub.status.busy": "2021-11-23T08:29:22.824237Z",
     "iopub.status.idle": "2021-11-23T08:29:25.902789Z",
     "shell.execute_reply": "2021-11-23T08:29:25.901791Z",
     "shell.execute_reply.started": "2021-11-23T08:22:51.577765Z"
    },
    "papermill": {
     "duration": 3.101295,
     "end_time": "2021-11-23T08:29:25.902922",
     "exception": false,
     "start_time": "2021-11-23T08:29:22.801627",
     "status": "completed"
    },
    "tags": []
   },
   "outputs": [],
   "source": [
    "import sys\n",
    "sys.path.insert(0, \"../input/timm-efficientdet-pytorch\")\n",
    "sys.path.insert(0, \"../input/omegaconf\")\n",
    "sys.path.insert(0, \"../input/weightedboxesfusion\")\n",
    "\n",
    "from ensemble_boxes import *\n",
    "import torch\n",
    "import numpy as np\n",
    "import pandas as pd\n",
    "from glob import glob\n",
    "from torch.utils.data import Dataset,DataLoader\n",
    "import albumentations as A\n",
    "from albumentations.pytorch.transforms import ToTensorV2\n",
    "import cv2\n",
    "import gc\n",
    "from matplotlib import pyplot as plt\n",
    "from effdet import get_efficientdet_config, EfficientDet, DetBenchEval\n",
    "from effdet.efficientdet import HeadNet"
   ]
  },
  {
   "cell_type": "code",
   "execution_count": 3,
   "metadata": {
    "execution": {
     "iopub.execute_input": "2021-11-23T08:29:25.934719Z",
     "iopub.status.busy": "2021-11-23T08:29:25.933019Z",
     "iopub.status.idle": "2021-11-23T08:29:25.935395Z",
     "shell.execute_reply": "2021-11-23T08:29:25.935811Z",
     "shell.execute_reply.started": "2021-11-23T08:22:51.587903Z"
    },
    "papermill": {
     "duration": 0.02003,
     "end_time": "2021-11-23T08:29:25.935924",
     "exception": false,
     "start_time": "2021-11-23T08:29:25.915894",
     "status": "completed"
    },
    "tags": []
   },
   "outputs": [],
   "source": [
    "def get_valid_transforms():\n",
    "    return A.Compose([\n",
    "            A.Resize(height=512, width=512, p=1.0),\n",
    "            ToTensorV2(p=1.0),\n",
    "        ], p=1.0)"
   ]
  },
  {
   "cell_type": "code",
   "execution_count": 4,
   "metadata": {
    "execution": {
     "iopub.execute_input": "2021-11-23T08:29:25.975620Z",
     "iopub.status.busy": "2021-11-23T08:29:25.974860Z",
     "iopub.status.idle": "2021-11-23T08:29:25.978497Z",
     "shell.execute_reply": "2021-11-23T08:29:25.977955Z",
     "shell.execute_reply.started": "2021-11-23T08:22:51.598944Z"
    },
    "papermill": {
     "duration": 0.030416,
     "end_time": "2021-11-23T08:29:25.978653",
     "exception": false,
     "start_time": "2021-11-23T08:29:25.948237",
     "status": "completed"
    },
    "tags": []
   },
   "outputs": [],
   "source": [
    "DATA_ROOT_PATH = '../input/global-wheat-detection/test'\n",
    "\n",
    "class DatasetRetriever(Dataset):\n",
    "\n",
    "    def __init__(self, image_ids, transforms=None):\n",
    "        super().__init__()\n",
    "        self.image_ids = image_ids\n",
    "        self.transforms = transforms\n",
    "\n",
    "    def __getitem__(self, index: int):\n",
    "        image_id = self.image_ids[index]\n",
    "        image = cv2.imread(f'{DATA_ROOT_PATH}/{image_id}.jpg', cv2.IMREAD_COLOR)\n",
    "        image = cv2.cvtColor(image, cv2.COLOR_BGR2RGB).astype(np.float32)\n",
    "        image /= 255.0\n",
    "        if self.transforms:\n",
    "            sample = {'image': image}\n",
    "            sample = self.transforms(**sample)\n",
    "            image = sample['image']\n",
    "        return image, image_id\n",
    "\n",
    "    def __len__(self) -> int:\n",
    "        return self.image_ids.shape[0]"
   ]
  },
  {
   "cell_type": "code",
   "execution_count": 5,
   "metadata": {
    "execution": {
     "iopub.execute_input": "2021-11-23T08:29:26.012863Z",
     "iopub.status.busy": "2021-11-23T08:29:26.012107Z",
     "iopub.status.idle": "2021-11-23T08:29:26.020282Z",
     "shell.execute_reply": "2021-11-23T08:29:26.019797Z",
     "shell.execute_reply.started": "2021-11-23T08:22:51.614379Z"
    },
    "papermill": {
     "duration": 0.027855,
     "end_time": "2021-11-23T08:29:26.020371",
     "exception": false,
     "start_time": "2021-11-23T08:29:25.992516",
     "status": "completed"
    },
    "tags": []
   },
   "outputs": [],
   "source": [
    "dataset = DatasetRetriever(\n",
    "    image_ids=np.array([path.split('/')[-1][:-4] for path in glob(f'{DATA_ROOT_PATH}/*.jpg')]),\n",
    "    transforms=get_valid_transforms()\n",
    ")\n",
    "\n",
    "def collate_fn(batch):\n",
    "    return tuple(zip(*batch))\n",
    "\n",
    "data_loader = DataLoader(\n",
    "    dataset,\n",
    "    batch_size=2,\n",
    "    shuffle=False,\n",
    "    num_workers=4,\n",
    "    drop_last=False,\n",
    "    collate_fn=collate_fn\n",
    ")"
   ]
  },
  {
   "cell_type": "code",
   "execution_count": 6,
   "metadata": {
    "execution": {
     "iopub.execute_input": "2021-11-23T08:29:26.065497Z",
     "iopub.status.busy": "2021-11-23T08:29:26.064882Z",
     "iopub.status.idle": "2021-11-23T08:29:36.725949Z",
     "shell.execute_reply": "2021-11-23T08:29:36.724770Z",
     "shell.execute_reply.started": "2021-11-23T08:22:51.629571Z"
    },
    "papermill": {
     "duration": 10.691543,
     "end_time": "2021-11-23T08:29:36.726085",
     "exception": false,
     "start_time": "2021-11-23T08:29:26.034542",
     "status": "completed"
    },
    "tags": []
   },
   "outputs": [],
   "source": [
    "def load_net(checkpoint_path):\n",
    "    config = get_efficientdet_config('tf_efficientdet_d5')\n",
    "    net = EfficientDet(config, pretrained_backbone=False)\n",
    "\n",
    "    config.num_classes = 1\n",
    "    config.image_size=512\n",
    "    net.class_net = HeadNet(config, num_outputs=config.num_classes, norm_kwargs=dict(eps=.001, momentum=.01))\n",
    "\n",
    "    checkpoint = torch.load(checkpoint_path)\n",
    "    net.load_state_dict(checkpoint['model_state_dict'])\n",
    "\n",
    "    del checkpoint\n",
    "    gc.collect()\n",
    "\n",
    "    net = DetBenchEval(net, config)\n",
    "    net.eval();\n",
    "    return net.cuda()\n",
    "\n",
    "net = load_net('../input/wheat-effdet5-fold0-best-checkpoint/fold0-best-all-states.bin')"
   ]
  },
  {
   "cell_type": "code",
   "execution_count": 7,
   "metadata": {
    "execution": {
     "iopub.execute_input": "2021-11-23T08:29:36.766172Z",
     "iopub.status.busy": "2021-11-23T08:29:36.765599Z",
     "iopub.status.idle": "2021-11-23T08:29:40.535626Z",
     "shell.execute_reply": "2021-11-23T08:29:40.533938Z",
     "shell.execute_reply.started": "2021-11-23T08:22:53.558364Z"
    },
    "papermill": {
     "duration": 3.796407,
     "end_time": "2021-11-23T08:29:40.535831",
     "exception": false,
     "start_time": "2021-11-23T08:29:36.739424",
     "status": "completed"
    },
    "tags": []
   },
   "outputs": [
    {
     "data": {
      "text/html": [
       "<div>\n",
       "<style scoped>\n",
       "    .dataframe tbody tr th:only-of-type {\n",
       "        vertical-align: middle;\n",
       "    }\n",
       "\n",
       "    .dataframe tbody tr th {\n",
       "        vertical-align: top;\n",
       "    }\n",
       "\n",
       "    .dataframe thead th {\n",
       "        text-align: right;\n",
       "    }\n",
       "</style>\n",
       "<table border=\"1\" class=\"dataframe\">\n",
       "  <thead>\n",
       "    <tr style=\"text-align: right;\">\n",
       "      <th></th>\n",
       "      <th>image_id</th>\n",
       "      <th>width</th>\n",
       "      <th>height</th>\n",
       "      <th>source</th>\n",
       "      <th>x</th>\n",
       "      <th>y</th>\n",
       "      <th>w</th>\n",
       "      <th>h</th>\n",
       "    </tr>\n",
       "  </thead>\n",
       "  <tbody>\n",
       "    <tr>\n",
       "      <th>0</th>\n",
       "      <td>b6ab77fd7</td>\n",
       "      <td>1024</td>\n",
       "      <td>1024</td>\n",
       "      <td>usask_1</td>\n",
       "      <td>834.0</td>\n",
       "      <td>222.0</td>\n",
       "      <td>56.0</td>\n",
       "      <td>36.0</td>\n",
       "    </tr>\n",
       "    <tr>\n",
       "      <th>1</th>\n",
       "      <td>b6ab77fd7</td>\n",
       "      <td>1024</td>\n",
       "      <td>1024</td>\n",
       "      <td>usask_1</td>\n",
       "      <td>226.0</td>\n",
       "      <td>548.0</td>\n",
       "      <td>130.0</td>\n",
       "      <td>58.0</td>\n",
       "    </tr>\n",
       "    <tr>\n",
       "      <th>2</th>\n",
       "      <td>b6ab77fd7</td>\n",
       "      <td>1024</td>\n",
       "      <td>1024</td>\n",
       "      <td>usask_1</td>\n",
       "      <td>377.0</td>\n",
       "      <td>504.0</td>\n",
       "      <td>74.0</td>\n",
       "      <td>160.0</td>\n",
       "    </tr>\n",
       "    <tr>\n",
       "      <th>3</th>\n",
       "      <td>b6ab77fd7</td>\n",
       "      <td>1024</td>\n",
       "      <td>1024</td>\n",
       "      <td>usask_1</td>\n",
       "      <td>834.0</td>\n",
       "      <td>95.0</td>\n",
       "      <td>109.0</td>\n",
       "      <td>107.0</td>\n",
       "    </tr>\n",
       "    <tr>\n",
       "      <th>4</th>\n",
       "      <td>b6ab77fd7</td>\n",
       "      <td>1024</td>\n",
       "      <td>1024</td>\n",
       "      <td>usask_1</td>\n",
       "      <td>26.0</td>\n",
       "      <td>144.0</td>\n",
       "      <td>124.0</td>\n",
       "      <td>117.0</td>\n",
       "    </tr>\n",
       "  </tbody>\n",
       "</table>\n",
       "</div>"
      ],
      "text/plain": [
       "    image_id  width  height   source      x      y      w      h\n",
       "0  b6ab77fd7   1024    1024  usask_1  834.0  222.0   56.0   36.0\n",
       "1  b6ab77fd7   1024    1024  usask_1  226.0  548.0  130.0   58.0\n",
       "2  b6ab77fd7   1024    1024  usask_1  377.0  504.0   74.0  160.0\n",
       "3  b6ab77fd7   1024    1024  usask_1  834.0   95.0  109.0  107.0\n",
       "4  b6ab77fd7   1024    1024  usask_1   26.0  144.0  124.0  117.0"
      ]
     },
     "execution_count": 7,
     "metadata": {},
     "output_type": "execute_result"
    }
   ],
   "source": [
    "import ast\n",
    "\n",
    "DATAPATH = '../input/global-wheat-detection'\n",
    "SPLIT = 0.2\n",
    "\n",
    "df = pd.read_csv(DATAPATH + '/train.csv')\n",
    "df.bbox = df.bbox.apply(ast.literal_eval)\n",
    "\n",
    "\n",
    "marking = pd.read_csv('../input/global-wheat-detection/train.csv')\n",
    "\n",
    "bboxs = np.stack(marking['bbox'].apply(lambda x: np.fromstring(x[1:-1], sep=',')))\n",
    "for i, column in enumerate(['x', 'y', 'w', 'h']):\n",
    "    marking[column] = bboxs[:,i]\n",
    "marking.drop(columns=['bbox'], inplace=True)\n",
    "\n",
    "df = df.groupby(\"image_id\")[\"bbox\"].apply(list).reset_index(name=\"bboxes\")\n",
    "\n",
    "def train_test_split(dataFrame,split):\n",
    "    len_tot = len(dataFrame)\n",
    "    val_len = int(split*len_tot)\n",
    "    train_len = len_tot-val_len\n",
    "    train_data,val_data = dataFrame.iloc[:train_len][:],dataFrame.iloc[train_len:][:]\n",
    "    return train_data,val_data\n",
    "\n",
    "train_data_df,val_data_df = train_test_split(df,SPLIT)\n",
    "\n",
    "marking.head()"
   ]
  },
  {
   "cell_type": "code",
   "execution_count": 8,
   "metadata": {
    "execution": {
     "iopub.execute_input": "2021-11-23T08:29:40.586343Z",
     "iopub.status.busy": "2021-11-23T08:29:40.585490Z",
     "iopub.status.idle": "2021-11-23T08:29:40.587946Z",
     "shell.execute_reply": "2021-11-23T08:29:40.588366Z",
     "shell.execute_reply.started": "2021-11-23T08:22:57.662051Z"
    },
    "papermill": {
     "duration": 0.036535,
     "end_time": "2021-11-23T08:29:40.588497",
     "exception": false,
     "start_time": "2021-11-23T08:29:40.551962",
     "status": "completed"
    },
    "tags": []
   },
   "outputs": [],
   "source": [
    "def make_predictions(images, score_threshold=0.5):\n",
    "    images = torch.stack(images).cuda().float()\n",
    "    predictions = []\n",
    "    with torch.no_grad():\n",
    "        det = net(images, torch.tensor([1]*images.shape[0]).float().cuda())\n",
    "        for i in range(images.shape[0]):\n",
    "            boxes = det[i].detach().cpu().numpy()[:,:4]    \n",
    "            scores = det[i].detach().cpu().numpy()[:,4]\n",
    "            indexes = np.where(scores > score_threshold)[0]\n",
    "            boxes = boxes[indexes]\n",
    "            boxes[:, 2] = boxes[:, 2] + boxes[:, 0]\n",
    "            boxes[:, 3] = boxes[:, 3] + boxes[:, 1]\n",
    "            predictions.append({\n",
    "                'boxes': boxes[indexes],\n",
    "                'scores': scores[indexes],\n",
    "            })\n",
    "    return [predictions]\n",
    "\n",
    "def run_wbf(predictions, image_index, image_size=512, iou_thr=0.44, skip_box_thr=0.43, weights=None):\n",
    "    boxes = [(prediction[image_index]['boxes']/(image_size-1)).tolist()  for prediction in predictions]\n",
    "    scores = [prediction[image_index]['scores'].tolist()  for prediction in predictions]\n",
    "    labels = [np.ones(prediction[image_index]['scores'].shape[0]).tolist() for prediction in predictions]\n",
    "    boxes, scores, labels = weighted_boxes_fusion(boxes, scores, labels, weights=None, iou_thr=iou_thr, skip_box_thr=skip_box_thr)\n",
    "    boxes = boxes*(image_size-1)\n",
    "    return boxes, scores, labels"
   ]
  },
  {
   "cell_type": "code",
   "execution_count": 9,
   "metadata": {
    "execution": {
     "iopub.execute_input": "2021-11-23T08:29:40.620799Z",
     "iopub.status.busy": "2021-11-23T08:29:40.620217Z",
     "iopub.status.idle": "2021-11-23T08:29:40.625532Z",
     "shell.execute_reply": "2021-11-23T08:29:40.625035Z",
     "shell.execute_reply.started": "2021-11-23T08:22:57.680088Z"
    },
    "papermill": {
     "duration": 0.023592,
     "end_time": "2021-11-23T08:29:40.625627",
     "exception": false,
     "start_time": "2021-11-23T08:29:40.602035",
     "status": "completed"
    },
    "tags": []
   },
   "outputs": [
    {
     "data": {
      "text/plain": [
       "\"import matplotlib.pyplot as plt\\n\\nfor j, (images, image_ids) in enumerate(data_loader):\\n    break\\n\\npredictions = make_predictions(images)\\n\\ni = 0\\n\\nsample = images[i].permute(1,2,0).cpu().numpy()\\nprint(image_ids[i])\\nboxes, scores, labels = run_wbf(predictions, image_index=i)\\nboxes = boxes.astype(np.int32).clip(min=0, max=511)\\n\\nrecords = marking[marking['image_id'] == image_ids[i]]\\n#print(records)\\ntargets = records[['x', 'y', 'w', 'h']].values\\ntargets[:, 2] = targets[:, 0] + targets[:, 2]\\ntargets[:, 3] = targets[:, 1] + targets[:, 3]\\n#print(targets)\\n\\n#print(boxes)\\nfig, ax = plt.subplots(1, 1, figsize=(16, 8))\\n\\n#X1,Y1,X2,Y2\\nfor box in boxes:\\n    cv2.rectangle(sample, (box[0], box[1]), (box[2], box[3]), (1, 0, 0), 1)\\n    \\n#for box in targets:\\n #   cv2.rectangle(sample, (int(box[0]), int(box[1])), (int(box[2]), int(box[3])), (1, 0, 1), 1)\\n    \\nax.set_axis_off()\\nax.imshow(sample);\\n\\nprint(np.average(scores))\""
      ]
     },
     "execution_count": 9,
     "metadata": {},
     "output_type": "execute_result"
    }
   ],
   "source": [
    "'''import matplotlib.pyplot as plt\n",
    "\n",
    "for j, (images, image_ids) in enumerate(data_loader):\n",
    "    break\n",
    "\n",
    "predictions = make_predictions(images)\n",
    "\n",
    "i = 0\n",
    "\n",
    "sample = images[i].permute(1,2,0).cpu().numpy()\n",
    "print(image_ids[i])\n",
    "boxes, scores, labels = run_wbf(predictions, image_index=i)\n",
    "boxes = boxes.astype(np.int32).clip(min=0, max=511)\n",
    "\n",
    "records = marking[marking['image_id'] == image_ids[i]]\n",
    "#print(records)\n",
    "targets = records[['x', 'y', 'w', 'h']].values\n",
    "targets[:, 2] = targets[:, 0] + targets[:, 2]\n",
    "targets[:, 3] = targets[:, 1] + targets[:, 3]\n",
    "#print(targets)\n",
    "\n",
    "#print(boxes)\n",
    "fig, ax = plt.subplots(1, 1, figsize=(16, 8))\n",
    "\n",
    "#X1,Y1,X2,Y2\n",
    "for box in boxes:\n",
    "    cv2.rectangle(sample, (box[0], box[1]), (box[2], box[3]), (1, 0, 0), 1)\n",
    "    \n",
    "#for box in targets:\n",
    " #   cv2.rectangle(sample, (int(box[0]), int(box[1])), (int(box[2]), int(box[3])), (1, 0, 1), 1)\n",
    "    \n",
    "ax.set_axis_off()\n",
    "ax.imshow(sample);\n",
    "\n",
    "print(np.average(scores))'''"
   ]
  },
  {
   "cell_type": "code",
   "execution_count": 10,
   "metadata": {
    "execution": {
     "iopub.execute_input": "2021-11-23T08:29:40.658661Z",
     "iopub.status.busy": "2021-11-23T08:29:40.657664Z",
     "iopub.status.idle": "2021-11-23T08:29:40.662734Z",
     "shell.execute_reply": "2021-11-23T08:29:40.662216Z",
     "shell.execute_reply.started": "2021-11-23T08:22:57.694330Z"
    },
    "papermill": {
     "duration": 0.023557,
     "end_time": "2021-11-23T08:29:40.662836",
     "exception": false,
     "start_time": "2021-11-23T08:29:40.639279",
     "status": "completed"
    },
    "tags": []
   },
   "outputs": [
    {
     "data": {
      "text/plain": [
       "\"b1 = targets\\nb2 = boxes\\nsample = images[i].permute(1,2,0).cpu().numpy()\\n\\n#scores = outputs[i]['scores'].detach().numpy()\\n# print(scores)\\n#b2 = b2[scores >= 0.5].astype(np.int32)\\n\\nb2 = [x for _ , x in sorted(zip(scores,b2), key=lambda x: x[0], reverse = True)]\\nb2 = b2[:(b1.shape[0])]\\nb_good = []\\n#print(len(b2))\\nnumerator = 0\\ndenominator = 0\\n\\nfor bb2 in b2:\\n    for bb1 in b1:\\n        #print(bb1)\\n        #print(bb2)\\n        o = bb_intersection_over_union(bb1, bb2)\\n        #print(o)\\n        num = o[0]\\n        dem = o[1]\\n        if num>0:# and num/dem>0.25:\\n            numerator += num\\n            denominator +=dem\\n            b_good.append(bb2)\\nif denominator!=0:\\n    iou = numerator/denominator\\nprint(iou)\\n\\nfig, ax = plt.subplots(1, 1, figsize=(16, 8))\\n#print(b1)\\n\\n\\nfor box in b1:\\n    cv2.rectangle(sample, (int(box[0]), int(box[1])), (int(box[2]), int(box[3])),\\n                  (255, 0, 0), 1)\\n#print(b_good)\\nfor box in b_good:\\n    cv2.rectangle(sample,(int(box[0]), int(box[1])), (int(box[2]), int(box[3])),\\n                  (0, 0, 255), 1)\\nax.set_axis_off()\\nax.imshow(sample)\\n    \\n    \\n#print(val_iou)\""
      ]
     },
     "execution_count": 10,
     "metadata": {},
     "output_type": "execute_result"
    }
   ],
   "source": [
    "'''b1 = targets\n",
    "b2 = boxes\n",
    "sample = images[i].permute(1,2,0).cpu().numpy()\n",
    "\n",
    "#scores = outputs[i]['scores'].detach().numpy()\n",
    "# print(scores)\n",
    "#b2 = b2[scores >= 0.5].astype(np.int32)\n",
    "\n",
    "b2 = [x for _ , x in sorted(zip(scores,b2), key=lambda x: x[0], reverse = True)]\n",
    "b2 = b2[:(b1.shape[0])]\n",
    "b_good = []\n",
    "#print(len(b2))\n",
    "numerator = 0\n",
    "denominator = 0\n",
    "\n",
    "for bb2 in b2:\n",
    "    for bb1 in b1:\n",
    "        #print(bb1)\n",
    "        #print(bb2)\n",
    "        o = bb_intersection_over_union(bb1, bb2)\n",
    "        #print(o)\n",
    "        num = o[0]\n",
    "        dem = o[1]\n",
    "        if num>0:# and num/dem>0.25:\n",
    "            numerator += num\n",
    "            denominator +=dem\n",
    "            b_good.append(bb2)\n",
    "if denominator!=0:\n",
    "    iou = numerator/denominator\n",
    "print(iou)\n",
    "\n",
    "fig, ax = plt.subplots(1, 1, figsize=(16, 8))\n",
    "#print(b1)\n",
    "\n",
    "\n",
    "for box in b1:\n",
    "    cv2.rectangle(sample, (int(box[0]), int(box[1])), (int(box[2]), int(box[3])),\n",
    "                  (255, 0, 0), 1)\n",
    "#print(b_good)\n",
    "for box in b_good:\n",
    "    cv2.rectangle(sample,(int(box[0]), int(box[1])), (int(box[2]), int(box[3])),\n",
    "                  (0, 0, 255), 1)\n",
    "ax.set_axis_off()\n",
    "ax.imshow(sample)\n",
    "    \n",
    "    \n",
    "#print(val_iou)'''"
   ]
  },
  {
   "cell_type": "code",
   "execution_count": 11,
   "metadata": {
    "execution": {
     "iopub.execute_input": "2021-11-23T08:29:40.700359Z",
     "iopub.status.busy": "2021-11-23T08:29:40.699488Z",
     "iopub.status.idle": "2021-11-23T08:29:40.701306Z",
     "shell.execute_reply": "2021-11-23T08:29:40.701738Z",
     "shell.execute_reply.started": "2021-11-23T08:22:57.704522Z"
    },
    "papermill": {
     "duration": 0.025114,
     "end_time": "2021-11-23T08:29:40.701854",
     "exception": false,
     "start_time": "2021-11-23T08:29:40.676740",
     "status": "completed"
    },
    "tags": []
   },
   "outputs": [],
   "source": [
    "def bb_intersection_over_union(boxA, boxB):\n",
    "\t# determine the (x, y)-coordinates of the intersection rectangle\n",
    "\txA = max(boxA[0], boxB[0])\n",
    "\tyA = max(boxA[1], boxB[1])\n",
    "\txB = min(boxA[2], boxB[2])\n",
    "\tyB = min(boxA[3], boxB[3])\n",
    "\t# compute the area of intersection rectangle\n",
    "\tinterArea = max(0, xB - xA + 1) * max(0, yB - yA + 1)\n",
    "\t# compute the area of both the prediction and ground-truth\n",
    "\t# rectangles\n",
    "\tboxAArea = (boxA[2] - boxA[0] + 1) * (boxA[3] - boxA[1] + 1)\n",
    "\tboxBArea = (boxB[2] - boxB[0] + 1) * (boxB[3] - boxB[1] + 1)\n",
    "\t# compute the intersection over union by taking the intersection\n",
    "\t# area and dividing it by the sum of prediction + ground-truth\n",
    "\t# areas - the interesection area\n",
    "\tiou = interArea / float(boxAArea + boxBArea - interArea)\n",
    "\t# return the intersection over union value\n",
    "\treturn interArea, float(boxAArea + boxBArea - interArea)"
   ]
  },
  {
   "cell_type": "code",
   "execution_count": 12,
   "metadata": {
    "execution": {
     "iopub.execute_input": "2021-11-23T08:29:40.735972Z",
     "iopub.status.busy": "2021-11-23T08:29:40.735257Z",
     "iopub.status.idle": "2021-11-23T08:29:40.740509Z",
     "shell.execute_reply": "2021-11-23T08:29:40.740085Z",
     "shell.execute_reply.started": "2021-11-23T08:22:57.717616Z"
    },
    "papermill": {
     "duration": 0.025161,
     "end_time": "2021-11-23T08:29:40.740603",
     "exception": false,
     "start_time": "2021-11-23T08:29:40.715442",
     "status": "completed"
    },
    "tags": []
   },
   "outputs": [
    {
     "data": {
      "text/plain": [
       "'results = []\\navg_score = []\\nfor images, image_ids in data_loader:\\n    predictions = make_predictions(images)\\n    for i, image in enumerate(images):\\n        boxes, scores, labels = run_wbf(predictions, image_index=i)\\n        boxes = (boxes*2).astype(np.int32).clip(min=0, max=1023)\\n        \\n        boxes = boxes.astype(np.int32).clip(min=0, max=511)\\n        image_id = image_ids[i]\\n        records = marking[marking[\\'image_id\\'] == image_ids[i]]\\n        #print(records)\\n        targets = records[[\\'x\\', \\'y\\', \\'w\\', \\'h\\']].values\\n        targets[:, 2] = targets[:, 0] + targets[:, 2]\\n        targets[:, 3] = targets[:, 1] + targets[:, 3]\\n        #print(targets)\\n\\n        #print(boxes)\\n        fig, ax = plt.subplots(1, 1, figsize=(16, 8))\\n\\n        #X1,Y1,X2,Y2\\n        for box in boxes:\\n            cv2.rectangle(sample, (box[0], box[1]), (box[2], box[3]), (1, 0, 0), 1)\\n\\n        #for box in targets:\\n         #   cv2.rectangle(sample, (int(box[0]), int(box[1])), (int(box[2]), int(box[3])), (1, 0, 1), 1)\\n\\n        ax.set_axis_off()\\n        ax.imshow(sample);\\n\\n        print(\"scores = \", np.average(scores))\\n        \\n        b1 = targets\\n        b2 = boxes\\n        sample = images[i].permute(1,2,0).cpu().numpy()\\n\\n        #scores = outputs[i][\\'scores\\'].detach().numpy()\\n        # print(scores)\\n        #b2 = b2[scores >= 0.5].astype(np.int32)\\n\\n        b2 = [x for _ , x in sorted(zip(scores,b2), key=lambda x: x[0], reverse = True)]\\n        b2 = b2[:(b1.shape[0])]\\n        b_good = []\\n        #print(len(b2))\\n        numerator = 0\\n        denominator = 0\\n\\n        for bb2 in b2:\\n            for bb1 in b1:\\n                #print(bb1)\\n                #print(bb2)\\n                o = bb_intersection_over_union(bb1, bb2)\\n                #print(o)\\n                num = o[0]\\n                dem = o[1]\\n                if num>0:# and num/dem>0.25:\\n                    numerator += num\\n                    denominator +=dem\\n                    b_good.append(bb2)\\n        if denominator!=0:\\n            iou = numerator/denominator\\n        print(\"iou = \", iou, \\'\\n\\')\\n        \\n        \\n        \\n        avg_score.append(scores)\\n        result = {\\n            \\'image_id\\': image_id,\\n            \\'PredictionString\\': format_prediction_string(boxes, scores)\\n        }\\n        results.append(result)'"
      ]
     },
     "execution_count": 12,
     "metadata": {},
     "output_type": "execute_result"
    }
   ],
   "source": [
    "'''results = []\n",
    "avg_score = []\n",
    "for images, image_ids in data_loader:\n",
    "    predictions = make_predictions(images)\n",
    "    for i, image in enumerate(images):\n",
    "        boxes, scores, labels = run_wbf(predictions, image_index=i)\n",
    "        boxes = (boxes*2).astype(np.int32).clip(min=0, max=1023)\n",
    "        \n",
    "        boxes = boxes.astype(np.int32).clip(min=0, max=511)\n",
    "        image_id = image_ids[i]\n",
    "        records = marking[marking['image_id'] == image_ids[i]]\n",
    "        #print(records)\n",
    "        targets = records[['x', 'y', 'w', 'h']].values\n",
    "        targets[:, 2] = targets[:, 0] + targets[:, 2]\n",
    "        targets[:, 3] = targets[:, 1] + targets[:, 3]\n",
    "        #print(targets)\n",
    "\n",
    "        #print(boxes)\n",
    "        fig, ax = plt.subplots(1, 1, figsize=(16, 8))\n",
    "\n",
    "        #X1,Y1,X2,Y2\n",
    "        for box in boxes:\n",
    "            cv2.rectangle(sample, (box[0], box[1]), (box[2], box[3]), (1, 0, 0), 1)\n",
    "\n",
    "        #for box in targets:\n",
    "         #   cv2.rectangle(sample, (int(box[0]), int(box[1])), (int(box[2]), int(box[3])), (1, 0, 1), 1)\n",
    "\n",
    "        ax.set_axis_off()\n",
    "        ax.imshow(sample);\n",
    "\n",
    "        print(\"scores = \", np.average(scores))\n",
    "        \n",
    "        b1 = targets\n",
    "        b2 = boxes\n",
    "        sample = images[i].permute(1,2,0).cpu().numpy()\n",
    "\n",
    "        #scores = outputs[i]['scores'].detach().numpy()\n",
    "        # print(scores)\n",
    "        #b2 = b2[scores >= 0.5].astype(np.int32)\n",
    "\n",
    "        b2 = [x for _ , x in sorted(zip(scores,b2), key=lambda x: x[0], reverse = True)]\n",
    "        b2 = b2[:(b1.shape[0])]\n",
    "        b_good = []\n",
    "        #print(len(b2))\n",
    "        numerator = 0\n",
    "        denominator = 0\n",
    "\n",
    "        for bb2 in b2:\n",
    "            for bb1 in b1:\n",
    "                #print(bb1)\n",
    "                #print(bb2)\n",
    "                o = bb_intersection_over_union(bb1, bb2)\n",
    "                #print(o)\n",
    "                num = o[0]\n",
    "                dem = o[1]\n",
    "                if num>0:# and num/dem>0.25:\n",
    "                    numerator += num\n",
    "                    denominator +=dem\n",
    "                    b_good.append(bb2)\n",
    "        if denominator!=0:\n",
    "            iou = numerator/denominator\n",
    "        print(\"iou = \", iou, '\\n')\n",
    "        \n",
    "        \n",
    "        \n",
    "        avg_score.append(scores)\n",
    "        result = {\n",
    "            'image_id': image_id,\n",
    "            'PredictionString': format_prediction_string(boxes, scores)\n",
    "        }\n",
    "        results.append(result)'''"
   ]
  },
  {
   "cell_type": "code",
   "execution_count": 13,
   "metadata": {
    "execution": {
     "iopub.execute_input": "2021-11-23T08:29:40.775184Z",
     "iopub.status.busy": "2021-11-23T08:29:40.774346Z",
     "iopub.status.idle": "2021-11-23T08:29:40.776896Z",
     "shell.execute_reply": "2021-11-23T08:29:40.776454Z",
     "shell.execute_reply.started": "2021-11-23T08:22:57.728349Z"
    },
    "papermill": {
     "duration": 0.022076,
     "end_time": "2021-11-23T08:29:40.776989",
     "exception": false,
     "start_time": "2021-11-23T08:29:40.754913",
     "status": "completed"
    },
    "tags": []
   },
   "outputs": [],
   "source": [
    "def format_prediction_string(boxes, scores):\n",
    "    pred_strings = []\n",
    "    for j in zip(scores, boxes):\n",
    "        pred_strings.append(\"{0:.4f} {1} {2} {3} {4}\".format(j[0], j[1][0], j[1][1], j[1][2], j[1][3]))\n",
    "    return \" \".join(pred_strings)"
   ]
  },
  {
   "cell_type": "code",
   "execution_count": 14,
   "metadata": {
    "execution": {
     "iopub.execute_input": "2021-11-23T08:29:40.814286Z",
     "iopub.status.busy": "2021-11-23T08:29:40.813603Z",
     "iopub.status.idle": "2021-11-23T08:29:42.627060Z",
     "shell.execute_reply": "2021-11-23T08:29:42.626512Z",
     "shell.execute_reply.started": "2021-11-23T08:27:50.121153Z"
    },
    "papermill": {
     "duration": 1.836471,
     "end_time": "2021-11-23T08:29:42.627176",
     "exception": false,
     "start_time": "2021-11-23T08:29:40.790705",
     "status": "completed"
    },
    "tags": []
   },
   "outputs": [
    {
     "name": "stderr",
     "output_type": "stream",
     "text": [
      "/opt/conda/conda-bld/pytorch_1587428398394/work/aten/src/ATen/native/BinaryOps.cpp:81: UserWarning: Integer division of tensors using div or / is deprecated, and in a future release div will perform true division as in Python 3. Use true_divide or floor_divide (// in Python) instead.\n"
     ]
    }
   ],
   "source": [
    "results = []\n",
    "avg_score = []\n",
    "for images, image_ids in data_loader:\n",
    "    predictions = make_predictions(images)\n",
    "    for i, image in enumerate(images):\n",
    "        boxes, scores, labels = run_wbf(predictions, image_index=i)\n",
    "        boxes = (boxes*2).astype(np.int32).clip(min=0, max=1023)\n",
    "        image_id = image_ids[i]\n",
    "\n",
    "        boxes[:, 2] = boxes[:, 2] - boxes[:, 0]\n",
    "        boxes[:, 3] = boxes[:, 3] - boxes[:, 1]\n",
    "        avg_score.append(scores)\n",
    "        result = {\n",
    "            'image_id': image_id,\n",
    "            'PredictionString': format_prediction_string(boxes, scores)\n",
    "        }\n",
    "        if len(result['image_id'])!=9:\n",
    "            continue\n",
    "        else:\n",
    "            results.append(result)"
   ]
  },
  {
   "cell_type": "code",
   "execution_count": 15,
   "metadata": {
    "execution": {
     "iopub.execute_input": "2021-11-23T08:29:42.664671Z",
     "iopub.status.busy": "2021-11-23T08:29:42.664034Z",
     "iopub.status.idle": "2021-11-23T08:29:42.668801Z",
     "shell.execute_reply": "2021-11-23T08:29:42.669437Z",
     "shell.execute_reply.started": "2021-11-23T08:27:55.347259Z"
    },
    "papermill": {
     "duration": 0.026687,
     "end_time": "2021-11-23T08:29:42.669595",
     "exception": false,
     "start_time": "2021-11-23T08:29:42.642908",
     "status": "completed"
    },
    "tags": []
   },
   "outputs": [
    {
     "name": "stdout",
     "output_type": "stream",
     "text": [
      "0.762193871025876\n"
     ]
    }
   ],
   "source": [
    "fs = []\n",
    "for x in avg_score:\n",
    "    if np.isnan(np.mean(x)):\n",
    "        continue\n",
    "    else:\n",
    "        fs.append(np.mean(x))\n",
    "\n",
    "print(np.mean(fs))"
   ]
  },
  {
   "cell_type": "code",
   "execution_count": 16,
   "metadata": {
    "execution": {
     "iopub.execute_input": "2021-11-23T08:29:42.705808Z",
     "iopub.status.busy": "2021-11-23T08:29:42.705197Z",
     "iopub.status.idle": "2021-11-23T08:29:42.790439Z",
     "shell.execute_reply": "2021-11-23T08:29:42.789979Z",
     "shell.execute_reply.started": "2021-11-23T08:28:13.759413Z"
    },
    "papermill": {
     "duration": 0.105466,
     "end_time": "2021-11-23T08:29:42.790542",
     "exception": false,
     "start_time": "2021-11-23T08:29:42.685076",
     "status": "completed"
    },
    "tags": []
   },
   "outputs": [
    {
     "data": {
      "text/html": [
       "<div>\n",
       "<style scoped>\n",
       "    .dataframe tbody tr th:only-of-type {\n",
       "        vertical-align: middle;\n",
       "    }\n",
       "\n",
       "    .dataframe tbody tr th {\n",
       "        vertical-align: top;\n",
       "    }\n",
       "\n",
       "    .dataframe thead th {\n",
       "        text-align: right;\n",
       "    }\n",
       "</style>\n",
       "<table border=\"1\" class=\"dataframe\">\n",
       "  <thead>\n",
       "    <tr style=\"text-align: right;\">\n",
       "      <th></th>\n",
       "      <th>image_id</th>\n",
       "      <th>PredictionString</th>\n",
       "    </tr>\n",
       "  </thead>\n",
       "  <tbody>\n",
       "    <tr>\n",
       "      <th>0</th>\n",
       "      <td>796707dd7</td>\n",
       "      <td>0.9153 708 824 110 102 0.8817 893 330 114 94 0...</td>\n",
       "    </tr>\n",
       "    <tr>\n",
       "      <th>1</th>\n",
       "      <td>2fd875eaa</td>\n",
       "      <td>0.9358 460 499 79 133 0.9146 531 869 111 118 0...</td>\n",
       "    </tr>\n",
       "    <tr>\n",
       "      <th>2</th>\n",
       "      <td>cc3532ff6</td>\n",
       "      <td>0.9519 772 829 162 161 0.9396 909 123 112 95 0...</td>\n",
       "    </tr>\n",
       "    <tr>\n",
       "      <th>3</th>\n",
       "      <td>53f253011</td>\n",
       "      <td>0.9349 142 920 110 103 0.9172 233 840 115 95 0...</td>\n",
       "    </tr>\n",
       "    <tr>\n",
       "      <th>4</th>\n",
       "      <td>f5a1f0358</td>\n",
       "      <td>0.9284 542 271 110 114 0.9073 601 727 104 90 0...</td>\n",
       "    </tr>\n",
       "    <tr>\n",
       "      <th>5</th>\n",
       "      <td>51f1be19e</td>\n",
       "      <td>0.8388 834 269 140 204 0.8094 610 84 156 168 0...</td>\n",
       "    </tr>\n",
       "    <tr>\n",
       "      <th>6</th>\n",
       "      <td>aac893a91</td>\n",
       "      <td>0.8878 570 539 104 179 0.8570 240 81 132 148 0...</td>\n",
       "    </tr>\n",
       "    <tr>\n",
       "      <th>7</th>\n",
       "      <td>cb8d261a3</td>\n",
       "      <td>0.9352 309 158 107 212 0.9253 19 866 82 142 0....</td>\n",
       "    </tr>\n",
       "    <tr>\n",
       "      <th>8</th>\n",
       "      <td>51b3e36ab</td>\n",
       "      <td>0.8983 836 446 187 149 0.8931 496 361 314 128 ...</td>\n",
       "    </tr>\n",
       "    <tr>\n",
       "      <th>9</th>\n",
       "      <td>348a992bb</td>\n",
       "      <td>0.9160 736 223 139 86 0.8631 114 929 88 72 0.8...</td>\n",
       "    </tr>\n",
       "  </tbody>\n",
       "</table>\n",
       "</div>"
      ],
      "text/plain": [
       "    image_id                                   PredictionString\n",
       "0  796707dd7  0.9153 708 824 110 102 0.8817 893 330 114 94 0...\n",
       "1  2fd875eaa  0.9358 460 499 79 133 0.9146 531 869 111 118 0...\n",
       "2  cc3532ff6  0.9519 772 829 162 161 0.9396 909 123 112 95 0...\n",
       "3  53f253011  0.9349 142 920 110 103 0.9172 233 840 115 95 0...\n",
       "4  f5a1f0358  0.9284 542 271 110 114 0.9073 601 727 104 90 0...\n",
       "5  51f1be19e  0.8388 834 269 140 204 0.8094 610 84 156 168 0...\n",
       "6  aac893a91  0.8878 570 539 104 179 0.8570 240 81 132 148 0...\n",
       "7  cb8d261a3  0.9352 309 158 107 212 0.9253 19 866 82 142 0....\n",
       "8  51b3e36ab  0.8983 836 446 187 149 0.8931 496 361 314 128 ...\n",
       "9  348a992bb  0.9160 736 223 139 86 0.8631 114 929 88 72 0.8..."
      ]
     },
     "execution_count": 16,
     "metadata": {},
     "output_type": "execute_result"
    }
   ],
   "source": [
    "test_df = pd.DataFrame(results, columns=['image_id', 'PredictionString'])\n",
    "test_df.to_csv('submission.csv', index=False)\n",
    "test_df"
   ]
  },
  {
   "cell_type": "markdown",
   "metadata": {
    "papermill": {
     "duration": 0.015725,
     "end_time": "2021-11-23T08:29:42.822064",
     "exception": false,
     "start_time": "2021-11-23T08:29:42.806339",
     "status": "completed"
    },
    "tags": []
   },
   "source": [
    "### Thank you for reading my kernel!\n",
    "\n",
    "If you didn't read training and WBF kernels:\n",
    "\n",
    "- [[Training] EfficientDet](https://www.kaggle.com/shonenkov/training-efficientdet)\n",
    "- [WBF approach for ensemble](https://www.kaggle.com/shonenkov/wbf-approach-for-ensemble)\n",
    "\n",
    "\n",
    "Just recently I have started publishing my works, if you like this format of notebooks I would like continue to make kernels."
   ]
  }
 ],
 "metadata": {
  "kernelspec": {
   "display_name": "Python 3.10.6 64-bit",
   "language": "python",
   "name": "python3"
  },
  "language_info": {
   "codemirror_mode": {
    "name": "ipython",
    "version": 3
   },
   "file_extension": ".py",
   "mimetype": "text/x-python",
   "name": "python",
   "nbconvert_exporter": "python",
   "pygments_lexer": "ipython3",
   "version": "3.10.6"
  },
  "papermill": {
   "duration": 69.419075,
   "end_time": "2021-11-23T08:29:43.044990",
   "environment_variables": {},
   "exception": null,
   "input_path": "__notebook__.ipynb",
   "output_path": "__notebook__.ipynb",
   "parameters": {},
   "start_time": "2021-11-23T08:28:33.625915",
   "version": "2.1.0"
  },
  "vscode": {
   "interpreter": {
    "hash": "ba3a8d7868640ff8732a0a69b100ae4bb60fc7d3baa7afa89ab2bdb0b000bce6"
   }
  }
 },
 "nbformat": 4,
 "nbformat_minor": 4
}
